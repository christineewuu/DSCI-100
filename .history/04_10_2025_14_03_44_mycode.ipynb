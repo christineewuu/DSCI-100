{
 "cells": [
  {
   "cell_type": "code",
   "execution_count": null,
   "id": "555e39be-2b19-4229-8836-dd4527264fb8",
   "metadata": {},
   "outputs": [],
   "source": [
    "#sample code\n",
    "print(\"Hellow world!\")"
   ]
  },
  {
   "cell_type": "code",
   "execution_count": null,
   "id": "4ae43b89-7920-47d9-9f20-d726555d0a4a",
   "metadata": {},
   "outputs": [],
   "source": [
    "1+5"
   ]
  },
  {
   "cell_type": "code",
   "execution_count": null,
   "id": "da8248c3-0b14-4b15-8a71-de4f7969d4b4",
   "metadata": {},
   "outputs": [],
   "source": [
    "summary (mtcars)\n",
    "mtcars"
   ]
  },
  {
   "cell_type": "code",
   "execution_count": null,
   "id": "23c0f130-1436-4915-919b-abcbaf34b94a",
   "metadata": {},
   "outputs": [],
   "source": []
  }
 ],
 "metadata": {
  "kernelspec": {
   "display_name": "R",
   "language": "R",
   "name": "ir"
  },
  "language_info": {
   "codemirror_mode": "r",
   "file_extension": ".r",
   "mimetype": "text/x-r-source",
   "name": "R",
   "pygments_lexer": "r",
   "version": "4.3.3"
  }
 },
 "nbformat": 4,
 "nbformat_minor": 5
}
