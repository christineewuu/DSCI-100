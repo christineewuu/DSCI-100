{
 "cells": [
  {
   "cell_type": "code",
   "execution_count": 1,
   "id": "555e39be-2b19-4229-8836-dd4527264fb8",
   "metadata": {},
   "outputs": [
    {
     "name": "stdout",
     "output_type": "stream",
     "text": [
      "[1] \"Hellow world!\"\n"
     ]
    }
   ],
   "source": [
    "#sample code\n",
    "print(\"Hellow world!\")"
   ]
  },
  {
   "cell_type": "code",
   "execution_count": 2,
   "id": "4ae43b89-7920-47d9-9f20-d726555d0a4a",
   "metadata": {},
   "outputs": [
    {
     "data": {
      "text/html": [
       "6"
      ],
      "text/latex": [
       "6"
      ],
      "text/markdown": [
       "6"
      ],
      "text/plain": [
       "[1] 6"
      ]
     },
     "metadata": {},
     "output_type": "display_data"
    }
   ],
   "source": [
    "1+5"
   ]
  },
  {
   "cell_type": "code",
   "execution_count": null,
   "id": "da8248c3-0b14-4b15-8a71-de4f7969d4b4",
   "metadata": {},
   "outputs": [],
   "source": []
  }
 ],
 "metadata": {
  "kernelspec": {
   "display_name": "R",
   "language": "R",
   "name": "ir"
  },
  "language_info": {
   "codemirror_mode": "r",
   "file_extension": ".r",
   "mimetype": "text/x-r-source",
   "name": "R",
   "pygments_lexer": "r",
   "version": "4.3.3"
  }
 },
 "nbformat": 4,
 "nbformat_minor": 5
}
