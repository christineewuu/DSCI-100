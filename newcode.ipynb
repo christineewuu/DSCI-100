{
 "cells": [
  {
   "cell_type": "code",
   "execution_count": 1,
   "id": "d7c760db-aa3c-4403-b4f0-4e18b3208808",
   "metadata": {},
   "outputs": [
    {
     "name": "stdout",
     "output_type": "stream",
     "text": [
      "[1] \"dab\"\n"
     ]
    }
   ],
   "source": [
    "print (\"dab\")"
   ]
  },
  {
   "cell_type": "code",
   "execution_count": null,
   "id": "e52d6473-67f8-464b-83b8-15263eca1452",
   "metadata": {},
   "outputs": [],
   "source": []
  }
 ],
 "metadata": {
  "kernelspec": {
   "display_name": "R",
   "language": "R",
   "name": "ir"
  },
  "language_info": {
   "codemirror_mode": "r",
   "file_extension": ".r",
   "mimetype": "text/x-r-source",
   "name": "R",
   "pygments_lexer": "r",
   "version": "4.3.3"
  }
 },
 "nbformat": 4,
 "nbformat_minor": 5
}
